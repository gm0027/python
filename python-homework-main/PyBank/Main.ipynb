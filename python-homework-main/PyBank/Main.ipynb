{
 "cells": [
  {
   "cell_type": "code",
   "execution_count": 57,
   "metadata": {},
   "outputs": [],
   "source": [
    "from pathlib import Path\n",
    "import csv"
   ]
  },
  {
   "cell_type": "code",
   "execution_count": 58,
   "metadata": {},
   "outputs": [],
   "source": [
    "# Total number of months "
   ]
  },
  {
   "cell_type": "code",
   "execution_count": 91,
   "metadata": {},
   "outputs": [
    {
     "data": {
      "text/plain": [
       "'/Users/georgem/Desktop/python-homework-main/PyBank '"
      ]
     },
     "execution_count": 91,
     "metadata": {},
     "output_type": "execute_result"
    }
   ],
   "source": [
    "pwd"
   ]
  },
  {
   "cell_type": "code",
   "execution_count": 96,
   "metadata": {},
   "outputs": [
    {
     "name": "stdout",
     "output_type": "stream",
     "text": [
      "<_csv.reader object at 0x7fbb80023cf0>\n",
      "Header:['Date', 'Profit/Losses']\n",
      "86\n"
     ]
    }
   ],
   "source": [
    "csvpath = Path('Resources/PyBank.csv')\n",
    "with open(csvpath,newline ='') as csvfile:\n",
    "    csvreader = csv.reader(csvfile, delimiter = ',')\n",
    "    print(csvreader)\n",
    "    csv_header = next(csvreader)\n",
    "    month = []\n",
    "    revenue = []\n",
    "    revenue_change = []\n",
    "    monthly_change = []\n",
    "    print(f\"Header:{csv_header}\")\n",
    "    for row in csvreader:\n",
    "        month.append(row[0])\n",
    "        revenue.append(row[1])\n",
    "print(len(month))"
   ]
  },
  {
   "cell_type": "code",
   "execution_count": 75,
   "metadata": {},
   "outputs": [],
   "source": [
    "# Total amount of profit "
   ]
  },
  {
   "cell_type": "code",
   "execution_count": 76,
   "metadata": {},
   "outputs": [
    {
     "name": "stdout",
     "output_type": "stream",
     "text": [
      "38382578\n"
     ]
    }
   ],
   "source": [
    "revenue_int = map(int,revenue)\n",
    "total_revenue = (sum(revenue_int))\n",
    "print(total_revenue)"
   ]
  },
  {
   "cell_type": "code",
   "execution_count": 77,
   "metadata": {},
   "outputs": [],
   "source": [
    "# Average Change "
   ]
  },
  {
   "cell_type": "code",
   "execution_count": 78,
   "metadata": {},
   "outputs": [],
   "source": [
    "i = 0\n",
    "for i in range(len(revenue) - 1):\n",
    "    profit_loss = int(revenue[i+1]) - int(revenue[i])\n",
    "    revenue_change.append(profit_loss)\n",
    "    Total = sum(revenue_change)\n",
    "    monhtly_change = Total / len(revenue_change)"
   ]
  },
  {
   "cell_type": "code",
   "execution_count": 79,
   "metadata": {},
   "outputs": [
    {
     "name": "stdout",
     "output_type": "stream",
     "text": [
      "-2315.1176470588234\n"
     ]
    }
   ],
   "source": [
    "monthly_change = Total / len(revenue_change)\n",
    "print(monthly_change)"
   ]
  },
  {
   "cell_type": "code",
   "execution_count": 80,
   "metadata": {},
   "outputs": [],
   "source": [
    "# Greatest increase in profits "
   ]
  },
  {
   "cell_type": "code",
   "execution_count": 81,
   "metadata": {},
   "outputs": [
    {
     "name": "stdout",
     "output_type": "stream",
     "text": [
      "1926159\n"
     ]
    }
   ],
   "source": [
    "profit_increase = max(revenue_change)\n",
    "print(profit_increase)\n",
    "greatest_increase = revenue_change.index(profit_increase)\n",
    "month_increase = month[greatest_increase+1]"
   ]
  },
  {
   "cell_type": "code",
   "execution_count": 82,
   "metadata": {},
   "outputs": [],
   "source": [
    "# Greatest decrease in losses "
   ]
  },
  {
   "cell_type": "code",
   "execution_count": 86,
   "metadata": {},
   "outputs": [
    {
     "name": "stdout",
     "output_type": "stream",
     "text": [
      "-2196167\n"
     ]
    }
   ],
   "source": [
    "profit_decrease = min(revenue_change)\n",
    "print(profit_decrease)"
   ]
  },
  {
   "cell_type": "code",
   "execution_count": 87,
   "metadata": {},
   "outputs": [],
   "source": [
    "month_decrease = revenue_change.index(profit_decrease)\n",
    "month_decrease2 = month[month_decrease+1]"
   ]
  },
  {
   "cell_type": "code",
   "execution_count": 88,
   "metadata": {},
   "outputs": [
    {
     "name": "stdout",
     "output_type": "stream",
     "text": [
      "Financial Analysis\n",
      "----------------------------\n",
      "Total Number of Months: 86\n",
      "Total Revenue: $ 38382578\n",
      "Average Change: $-2315.1176470588234\n",
      "Greatest Increase in Profits: Feb-2012 ($1926159)\n",
      "Greatest Decrease in Profits: Sep-2013 ($-2196167)\n"
     ]
    }
   ],
   "source": [
    "print(f'Financial Analysis')\n",
    "print(f'----------------------------')\n",
    "print(\"Total Number of Months: \" +str(len(month)))\n",
    "print(\"Total Revenue: $ \" +str(total_revenue))\n",
    "print(\"Average Change: $\" + str(monthly_change))\n",
    "print(f\"Greatest Increase in Profits: {month_increase} (${profit_increase})\")\n",
    "print(f\"Greatest Decrease in Profits: {month_decrease2} (${profit_decrease})\")"
   ]
  },
  {
   "cell_type": "code",
   "execution_count": null,
   "metadata": {},
   "outputs": [],
   "source": []
  },
  {
   "cell_type": "code",
   "execution_count": null,
   "metadata": {},
   "outputs": [],
   "source": []
  }
 ],
 "metadata": {
  "kernelspec": {
   "display_name": "Python 3",
   "language": "python",
   "name": "python3"
  },
  "language_info": {
   "codemirror_mode": {
    "name": "ipython",
    "version": 3
   },
   "file_extension": ".py",
   "mimetype": "text/x-python",
   "name": "python",
   "nbconvert_exporter": "python",
   "pygments_lexer": "ipython3",
   "version": "3.8.5"
  }
 },
 "nbformat": 4,
 "nbformat_minor": 4
}
